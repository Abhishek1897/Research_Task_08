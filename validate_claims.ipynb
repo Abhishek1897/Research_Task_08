{
 "cells": [
  {
   "cell_type": "markdown",
   "id": "0cfa0402",
   "metadata": {},
   "source": [
    "# validate_claims.ipynb\n",
    "Cross-checks LLM statements in `results/responses.csv` against ground truth in `analysis/ground_truth.json`.\n",
    "\n",
    "**Output:**\n",
    "- `analysis/fabrication_report.json` — per-hypothesis contradiction counts and an estimated fabrication rate.\n",
    "\n",
    "**What it checks (rule-based):**\n",
    "- Mentions of games played vs actual `games_played`.\n",
    "- Statements implying 4th-period goals are higher than 1st when ground truth says otherwise.\n",
    "\n",
    "You can extend the rules for additional claims if needed."
   ]
  },
  {
   "cell_type": "code",
   "execution_count": 4,
   "id": "9e45ce10",
   "metadata": {},
   "outputs": [
    {
     "name": "stdout",
     "output_type": "stream",
     "text": [
      "Paths:\n",
      " - responses: results\\responses.csv\n",
      " - ground_truth: analysis\\ground_truth.json\n",
      " - output: analysis\\fabrication_report.json\n"
     ]
    }
   ],
   "source": [
    "import csv, json, re\n",
    "from pathlib import Path\n",
    "from collections import defaultdict\n",
    "\n",
    "ROOT = Path('.')\n",
    "RESP = ROOT / 'results' / 'responses.csv'\n",
    "GT = ROOT / 'analysis' / 'ground_truth.json'\n",
    "OUT = ROOT / 'analysis' / 'fabrication_report.json'\n",
    "\n",
    "print('Paths:')\n",
    "print(' - responses:', RESP)\n",
    "print(' - ground_truth:', GT)\n",
    "print(' - output:', OUT)"
   ]
  },
  {
   "cell_type": "code",
   "execution_count": 5,
   "id": "a5250112",
   "metadata": {},
   "outputs": [
    {
     "name": "stdout",
     "output_type": "stream",
     "text": [
      "Wrote analysis\\fabrication_report.json\n"
     ]
    }
   ],
   "source": [
    "if not RESP.exists():\n",
    "    raise SystemExit('No responses.csv found. Run run_experiment to log outputs first.')\n",
    "if not GT.exists():\n",
    "    raise SystemExit('Missing analysis/ground_truth.json. Generate or move your ground truth file into analysis/.')\n",
    "\n",
    "gt = json.loads(GT.read_text())\n",
    "games = gt.get('games_played')\n",
    "p1 = (gt.get('period_goals') or {}).get('P1')\n",
    "p4 = (gt.get('period_goals') or {}).get('P4')\n",
    "\n",
    "# Simple regex detectors for numbers mentioned\n",
    "num_pattern = re.compile(r\"\\b(\\d{1,3})\\b\")\n",
    "\n",
    "contradiction_counts = defaultdict(int)\n",
    "total_counts = defaultdict(int)\n",
    "\n",
    "with RESP.open(encoding='utf-8') as f:\n",
    "    for row in csv.DictReader(f):\n",
    "        h = row.get('hypothesis_id','')\n",
    "        text = row.get('response_text','')\n",
    "        total_counts[h] += 1\n",
    "\n",
    "        low = text.lower()\n",
    "\n",
    "        # Check games played if mentioned\n",
    "        if 'game' in low and games is not None:\n",
    "            for m in num_pattern.findall(text):\n",
    "                try:\n",
    "                    n = int(m)\n",
    "                except:\n",
    "                    continue\n",
    "                # Heuristic: numbers in a plausible season range\n",
    "                if 5 <= n <= 40 and n != games:\n",
    "                    contradiction_counts[h] += 1\n",
    "                    break\n",
    "\n",
    "        # Check period goals trend if mentioned\n",
    "        if (('first period' in low or '1st period' in low or 'p1' in low) and \n",
    "            ('fourth period' in low or '4th period' in low or 'p4' in low)):\n",
    "            if p1 is not None and p4 is not None:\n",
    "                if ('higher in fourth' in low or 'improved in fourth' in low or 'more goals in fourth' in low):\n",
    "                    if p4 < p1:\n",
    "                        contradiction_counts[h] += 1\n",
    "\n",
    "fabrication_rate = {h: (contradiction_counts[h]/total if total>0 else 0.0)\n",
    "                    for h,total in total_counts.items()}\n",
    "\n",
    "report = {\n",
    "    'fabrication_rate_by_hypothesis': fabrication_rate,\n",
    "    'contradictions_by_hypothesis': dict(contradiction_counts),\n",
    "    'total_responses_by_hypothesis': dict(total_counts)\n",
    "}\n",
    "\n",
    "OUT.write_text(json.dumps(report, indent=2))\n",
    "print(f'Wrote {OUT}')"
   ]
  },
  {
   "cell_type": "code",
   "execution_count": 6,
   "id": "24cfa8ca",
   "metadata": {},
   "outputs": [
    {
     "name": "stdout",
     "output_type": "stream",
     "text": [
      "{\n",
      "  \"fabrication_rate_by_hypothesis\": {\n",
      "    \"\": 0.0,\n",
      "    \"H1\": 0.0,\n",
      "    \"H2\": 0.0,\n",
      "    \"H3\": 0.0,\n",
      "    \"H4\": 0.0\n",
      "  },\n",
      "  \"contradictions_by_hypothesis\": {\n",
      "    \"\": 0,\n",
      "    \"H1\": 0,\n",
      "    \"H2\": 0,\n",
      "    \"H3\": 0,\n",
      "    \"H4\": 0\n",
      "  },\n",
      "  \"total_responses_by_hypothesis\": {\n",
      "    \"\": 1,\n",
      "    \"H1\": 4,\n",
      "    \"H2\": 1,\n",
      "    \"H3\": 2,\n",
      "    \"H4\": 2\n",
      "  }\n",
      "}\n"
     ]
    }
   ],
   "source": [
    "# Quick preview of the output JSON (if created)\n",
    "from pathlib import Path\n",
    "out = Path('analysis/fabrication_report.json')\n",
    "if out.exists():\n",
    "    txt = out.read_text()\n",
    "    print(txt[:1000] + ('...' if len(txt)>1000 else ''))\n",
    "else:\n",
    "    print('fabrication_report.json not found yet.')"
   ]
  },
  {
   "cell_type": "code",
   "execution_count": null,
   "id": "4c9b2728",
   "metadata": {},
   "outputs": [],
   "source": []
  }
 ],
 "metadata": {
  "kernelspec": {
   "display_name": "Python 3 (ipykernel)",
   "language": "python",
   "name": "python3"
  },
  "language_info": {
   "codemirror_mode": {
    "name": "ipython",
    "version": 3
   },
   "file_extension": ".py",
   "mimetype": "text/x-python",
   "name": "python",
   "nbconvert_exporter": "python",
   "pygments_lexer": "ipython3",
   "version": "3.11.5"
  }
 },
 "nbformat": 4,
 "nbformat_minor": 5
}
