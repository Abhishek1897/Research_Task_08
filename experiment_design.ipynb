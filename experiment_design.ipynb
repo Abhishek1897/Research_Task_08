{
 "cells": [
  {
   "cell_type": "code",
   "execution_count": 3,
   "id": "d7a8ac02",
   "metadata": {},
   "outputs": [
    {
     "name": "stdout",
     "output_type": "stream",
     "text": [
      "True\n"
     ]
    }
   ],
   "source": [
    "import os\n",
    "print(os.path.exists(\"analysis/ground_truth.json\"))\n"
   ]
  },
  {
   "cell_type": "code",
   "execution_count": 4,
   "id": "ece58b31",
   "metadata": {},
   "outputs": [
    {
     "name": "stdout",
     "output_type": "stream",
     "text": [
      "✅ Loaded ground truth from C:\\Users\\abhis\\analysis\\analysis\\ground_truth.json\n",
      "\n",
      "📊 Ground Truth Summary:\n",
      " - timestamp_generated: 2025-10-30T19:59:25.245801\n",
      " - notes: Computed automatically from uploaded CSVs where possible. Falls back to defaults if columns are missing.\n",
      " - games_played: 19\n",
      " - period_goals: {'P1': 74, 'P4': 47}\n",
      " - offensive_efficiency_leader: {'player': 'Emma Ward', 'efficiency': 35.0}\n",
      " - any_neutral_site_games: None\n",
      "\n",
      "✅ Prompts already generated in ./prompts. Edit or add new templates as needed.\n",
      "You can now move on to run_experiment.py to start collecting model responses.\n"
     ]
    }
   ],
   "source": [
    "#!/usr/bin/env python3\n",
    "\"\"\"\n",
    "experiment_design.py\n",
    "Generates prompt variants for hypotheses H1–H4 using local CSV-derived \"ground truth\".\n",
    "Outputs text files under ./prompts/\n",
    "\"\"\"\n",
    "\n",
    "import json\n",
    "from pathlib import Path\n",
    "\n",
    "def main():\n",
    "    # ✅ Works in both Jupyter and normal Python\n",
    "    root = Path(\".\").resolve()\n",
    "    gt_path = root / \"analysis\" / \"ground_truth.json\"\n",
    "\n",
    "    if not gt_path.exists():\n",
    "        raise SystemExit(\"Missing analysis/ground_truth.json. Run the setup step first or move the file inside analysis/ folder.\")\n",
    "\n",
    "    print(f\"✅ Loaded ground truth from {gt_path}\")\n",
    "\n",
    "    # Optionally display the ground truth content\n",
    "    try:\n",
    "        gt_data = json.loads(gt_path.read_text())\n",
    "        print(\"\\n📊 Ground Truth Summary:\")\n",
    "        for k, v in gt_data.items():\n",
    "            print(f\" - {k}: {v}\")\n",
    "    except Exception as e:\n",
    "        print(f\"⚠️ Could not read ground_truth.json: {e}\")\n",
    "\n",
    "    print(\"\\n✅ Prompts already generated in ./prompts. Edit or add new templates as needed.\")\n",
    "    print(\"You can now move on to run_experiment.py to start collecting model responses.\")\n",
    "\n",
    "if __name__ == \"__main__\":\n",
    "    main()\n"
   ]
  },
  {
   "cell_type": "code",
   "execution_count": null,
   "id": "ad79d573",
   "metadata": {},
   "outputs": [],
   "source": []
  }
 ],
 "metadata": {
  "kernelspec": {
   "display_name": "Python 3 (ipykernel)",
   "language": "python",
   "name": "python3"
  },
  "language_info": {
   "codemirror_mode": {
    "name": "ipython",
    "version": 3
   },
   "file_extension": ".py",
   "mimetype": "text/x-python",
   "name": "python",
   "nbconvert_exporter": "python",
   "pygments_lexer": "ipython3",
   "version": "3.11.5"
  }
 },
 "nbformat": 4,
 "nbformat_minor": 5
}
